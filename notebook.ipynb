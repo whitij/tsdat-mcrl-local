{
 "metadata": {
  "language_info": {
   "codemirror_mode": {
    "name": "ipython",
    "version": 3
   },
   "file_extension": ".py",
   "mimetype": "text/x-python",
   "name": "python",
   "nbconvert_exporter": "python",
   "pygments_lexer": "ipython3",
   "version": "3.8.8"
  },
  "orig_nbformat": 2,
  "kernelspec": {
   "name": "python388jvsc74a57bd0999ea8b4532d64343a4a5afc9826e88e14408e330fdfe2ac45185f1fdc3c0d7a",
   "display_name": "Python 3.8.8 64-bit ('tsdat_env': conda)"
  },
  "metadata": {
   "interpreter": {
    "hash": "8aabdb1f12e16193d8346d1659d9960962a3e710bc452d9494d5f288eed9c990"
   }
  }
 },
 "nbformat": 4,
 "nbformat_minor": 2,
 "cells": [
  {
   "cell_type": "code",
   "execution_count": null,
   "metadata": {},
   "outputs": [],
   "source": [
    "import xarray as xr\n",
    "\n",
    "ds = xr.load_dataset(\"storage/root/morro/morro.buoy_z06-lidar-10min.a1/morro.buoy_z06-lidar-10min.a1.20201201.001000.nc\")\n",
    "ds"
   ]
  },
  {
   "cell_type": "code",
   "execution_count": null,
   "metadata": {},
   "outputs": [],
   "source": [
    "# Display the quality results for the air_temp variable.\n",
    "# Note that tsdat is developing functions that wrap act to\n",
    "# provide easy access to this plotting routine.\n",
    "\n",
    "import act\n",
    "import matplotlib.pyplot as plt\n",
    "\n",
    "variable_name = \"air_temp\"\n",
    "\n",
    "display = act.plotting.TimeSeriesDisplay(ds, figsize=(15, 6), subplot_shape=(2,))\n",
    "display.plot(variable_name, subplot_index=(0,))\n",
    "display.qc_flag_block_plot(variable_name, subplot_index=(1,))\n",
    "plt.show()"
   ]
  }
 ]
}